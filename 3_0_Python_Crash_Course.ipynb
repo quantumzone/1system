{
  "nbformat": 4,
  "nbformat_minor": 0,
  "metadata": {
    "colab": {
      "name": "3.0 Python Crash Course.ipynb",
      "provenance": [],
      "collapsed_sections": [],
      "include_colab_link": true
    },
    "kernelspec": {
      "name": "python3",
      "display_name": "Python 3"
    }
  },
  "cells": [
    {
      "cell_type": "markdown",
      "metadata": {
        "id": "view-in-github",
        "colab_type": "text"
      },
      "source": [
        "<a href=\"https://colab.research.google.com/github/quantumzone/1system/blob/master/3_0_Python_Crash_Course.ipynb\" target=\"_parent\"><img src=\"https://colab.research.google.com/assets/colab-badge.svg\" alt=\"Open In Colab\"/></a>"
      ]
    },
    {
      "cell_type": "markdown",
      "metadata": {
        "id": "bRxmqZOhWY87"
      },
      "source": [
        "# Python Beginners Tutorial\n",
        "\n"
      ]
    },
    {
      "cell_type": "markdown",
      "metadata": {
        "id": "zimA9OEsXOLW"
      },
      "source": [
        "### Let's start with Simple Variables\n",
        "\n",
        "**Variables** can be considered a container that holds or stores a peice of **information** from numbers to text. \n"
      ]
    },
    {
      "cell_type": "code",
      "metadata": {
        "id": "pV1YfnLSXOq6",
        "colab": {
          "base_uri": "https://localhost:8080/",
          "height": 35
        },
        "outputId": "c1819c2d-d7cd-4b4c-cbd8-00d7f6949c3b"
      },
      "source": [
        "# Storing a number\n",
        "a = 14\n",
        "print(a)"
      ],
      "execution_count": null,
      "outputs": [
        {
          "output_type": "stream",
          "text": [
            "14\n"
          ],
          "name": "stdout"
        }
      ]
    },
    {
      "cell_type": "code",
      "metadata": {
        "id": "DkD4O1acWix8",
        "colab": {
          "base_uri": "https://localhost:8080/",
          "height": 35
        },
        "outputId": "346b16f3-c041-443b-f729-4612a055208c"
      },
      "source": [
        "# Or text\n",
        "b = \"This is some text\"\n",
        "print(b)"
      ],
      "execution_count": null,
      "outputs": [
        {
          "output_type": "stream",
          "text": [
            "This is some text\n"
          ],
          "name": "stdout"
        }
      ]
    },
    {
      "cell_type": "markdown",
      "metadata": {
        "id": "R0QT0wxIXggf"
      },
      "source": [
        "### What can we do with variables?"
      ]
    },
    {
      "cell_type": "code",
      "metadata": {
        "id": "eEqpciAiXjCZ",
        "colab": {
          "base_uri": "https://localhost:8080/",
          "height": 35
        },
        "outputId": "58d8e7c8-e6b3-42dd-e30f-29ac0ae9bb11"
      },
      "source": [
        "# Let's add them together\n",
        "a = 14\n",
        "c = 3\n",
        "d = a + c\n",
        "print(d)"
      ],
      "execution_count": null,
      "outputs": [
        {
          "output_type": "stream",
          "text": [
            "17\n"
          ],
          "name": "stdout"
        }
      ]
    },
    {
      "cell_type": "code",
      "metadata": {
        "id": "d9w3MZg-XMqt",
        "colab": {
          "base_uri": "https://localhost:8080/",
          "height": 35
        },
        "outputId": "312d09d4-84c7-4221-ebc9-23a4c3499753"
      },
      "source": [
        "# Or\n",
        "print(a+c)"
      ],
      "execution_count": null,
      "outputs": [
        {
          "output_type": "stream",
          "text": [
            "17\n"
          ],
          "name": "stdout"
        }
      ]
    },
    {
      "cell_type": "code",
      "metadata": {
        "id": "pPUxe1beWcDX",
        "colab": {
          "base_uri": "https://localhost:8080/",
          "height": 35
        },
        "outputId": "9116efba-cbeb-407b-ff3f-bf0de92ade42"
      },
      "source": [
        "# Can we change variable values?\n",
        "a = 18\n",
        "print(a)"
      ],
      "execution_count": null,
      "outputs": [
        {
          "output_type": "stream",
          "text": [
            "18\n"
          ],
          "name": "stdout"
        }
      ]
    },
    {
      "cell_type": "code",
      "metadata": {
        "id": "ZYe3vqeQXznr",
        "colab": {
          "base_uri": "https://localhost:8080/",
          "height": 35
        },
        "outputId": "f7ab5ed6-8c5f-4521-8bf8-90e51818dfdc"
      },
      "source": [
        "# Equating or copying variables\n",
        "e = a\n",
        "print(e)"
      ],
      "execution_count": null,
      "outputs": [
        {
          "output_type": "stream",
          "text": [
            "18\n"
          ],
          "name": "stdout"
        }
      ]
    },
    {
      "cell_type": "code",
      "metadata": {
        "id": "jzgNJ_MLX8a3",
        "colab": {
          "base_uri": "https://localhost:8080/",
          "height": 156
        },
        "outputId": "4b31092d-d827-4e78-92fa-123150d2c309"
      },
      "source": [
        "# Types of Varaibles\n",
        "\n",
        "# Integer variable\n",
        "a = 1\n",
        "print(a)\n",
        "print(type(a))\n",
        "\n",
        "# Float variable (Non integer digits)\n",
        "a = 5.0\n",
        "print(a)\n",
        "print(type(a))\n",
        "\n",
        "# Boolean variable (True or False)\n",
        "a = True\n",
        "print(a)\n",
        "print(type(a))\n",
        "\n",
        "# Text variable also known as string variables\n",
        "a = \"7\" \n",
        "print(a)\n",
        "print(type(a))"
      ],
      "execution_count": null,
      "outputs": [
        {
          "output_type": "stream",
          "text": [
            "1\n",
            "<class 'int'>\n",
            "5.0\n",
            "<class 'float'>\n",
            "True\n",
            "<class 'bool'>\n",
            "7\n",
            "<class 'str'>\n"
          ],
          "name": "stdout"
        }
      ]
    },
    {
      "cell_type": "code",
      "metadata": {
        "id": "fzBecq7OYWl1",
        "colab": {
          "base_uri": "https://localhost:8080/",
          "height": 87
        },
        "outputId": "1f148cee-bcb0-4674-c170-4547f98eb3ab"
      },
      "source": [
        "# Be careful with variable operations \n",
        "\n",
        "x = 15\n",
        "y = 4\n",
        "z = x + y\n",
        "print(z)\n",
        "print(type(z))\n",
        "\n",
        "# string variables\n",
        "x = \"1\"\n",
        "y = \"2\"\n",
        "z = x + y\n",
        "print(z)\n",
        "print(type(z))"
      ],
      "execution_count": null,
      "outputs": [
        {
          "output_type": "stream",
          "text": [
            "19\n",
            "<class 'int'>\n",
            "12\n",
            "<class 'str'>\n"
          ],
          "name": "stdout"
        }
      ]
    },
    {
      "cell_type": "code",
      "metadata": {
        "id": "QZSoaBvAcpFL"
      },
      "source": [
        "# Or dividing\n",
        "\n",
        "a = "
      ],
      "execution_count": null,
      "outputs": []
    },
    {
      "cell_type": "markdown",
      "metadata": {
        "id": "WDOkE_pGY8j_"
      },
      "source": [
        "### Array or List Variables\n",
        "**Arrays or Lists** are extremely useful in programming. Think of them as containers with different compartment, where each compartment stores another variable."
      ]
    },
    {
      "cell_type": "code",
      "metadata": {
        "id": "ePI9jV8gZP3Y",
        "colab": {
          "base_uri": "https://localhost:8080/",
          "height": 35
        },
        "outputId": "4b1e7497-664e-4f04-8127-08557b5c58c7"
      },
      "source": [
        "# A Simple array or integers\n",
        "a = [1,2,3]\n",
        "print(a)"
      ],
      "execution_count": null,
      "outputs": [
        {
          "output_type": "stream",
          "text": [
            "[1, 2, 3]\n"
          ],
          "name": "stdout"
        }
      ]
    },
    {
      "cell_type": "code",
      "metadata": {
        "id": "2CEfuPglZDex",
        "colab": {
          "base_uri": "https://localhost:8080/",
          "height": 35
        },
        "outputId": "90b8332a-5016-443d-85fc-6a35bf76f72b"
      },
      "source": [
        "# Storing variables of different types is possible\n",
        "b =  [\"Text\", 4, 2.5]\n",
        "print(b)"
      ],
      "execution_count": null,
      "outputs": [
        {
          "output_type": "stream",
          "text": [
            "['Text', 4, 2.5]\n"
          ],
          "name": "stdout"
        }
      ]
    },
    {
      "cell_type": "code",
      "metadata": {
        "id": "pYkAvDCSYuXy",
        "colab": {
          "base_uri": "https://localhost:8080/",
          "height": 69
        },
        "outputId": "e3fa2dc1-1105-44c1-f3a9-7f74aaa6e170"
      },
      "source": [
        "# Indexing Lists or accessing specific variables/locations in the list\n",
        "\n",
        "# How to print the first element?\n",
        "print(a[0])\n",
        "print(a[1])\n",
        "print(a[2])\n",
        "# Note lists always start at index or position 0, so a list that holds 3 numbers can be indexed with 0,1 & 2"
      ],
      "execution_count": null,
      "outputs": [
        {
          "output_type": "stream",
          "text": [
            "1\n",
            "2\n",
            "3\n"
          ],
          "name": "stdout"
        }
      ]
    },
    {
      "cell_type": "code",
      "metadata": {
        "id": "r2yL5VOMZ2xA",
        "colab": {
          "base_uri": "https://localhost:8080/",
          "height": 35
        },
        "outputId": "0a263286-c94e-4298-e206-6bb4ff7d6f73"
      },
      "source": [
        "# Storing more elements onto your list using *apend*\n",
        "\n",
        "a.append(4)\n",
        "print(a)"
      ],
      "execution_count": null,
      "outputs": [
        {
          "output_type": "stream",
          "text": [
            "[1, 2, 3, 4]\n"
          ],
          "name": "stdout"
        }
      ]
    },
    {
      "cell_type": "code",
      "metadata": {
        "id": "PkLqatC9Z9b1",
        "colab": {
          "base_uri": "https://localhost:8080/",
          "height": 35
        },
        "outputId": "45139962-327d-41d2-978b-8b7c42a5820b"
      },
      "source": [
        "# Getting our list length\n",
        "print(len(a))"
      ],
      "execution_count": null,
      "outputs": [
        {
          "output_type": "stream",
          "text": [
            "4\n"
          ],
          "name": "stdout"
        }
      ]
    },
    {
      "cell_type": "code",
      "metadata": {
        "id": "8YqFs7x7aFiJ",
        "colab": {
          "base_uri": "https://localhost:8080/",
          "height": 35
        },
        "outputId": "7f2fb3bc-accc-4be6-9035-096acb890536"
      },
      "source": [
        "# Changing the value of an element in a list\n",
        "\n",
        "a[3] = 5\n",
        "print(a)"
      ],
      "execution_count": null,
      "outputs": [
        {
          "output_type": "stream",
          "text": [
            "[1, 2, 3, 5]\n"
          ],
          "name": "stdout"
        }
      ]
    },
    {
      "cell_type": "code",
      "metadata": {
        "id": "ASXqbJojaNcI",
        "colab": {
          "base_uri": "https://localhost:8080/",
          "height": 87
        },
        "outputId": "42f89c55-0fab-4d6b-add1-b47f303d1fdf"
      },
      "source": [
        "# Slicing lists is a technique used to get elements from, before or between different indices\n",
        "\n",
        "print(\"All elelemts: \", a[:])\n",
        "print(\"All elements from the 3rd position onward: \", a[2:])\n",
        "print(\"All elements between the 2nd and 4th position: \", a[1:3])\n",
        "print(\"All elements before the last postion\", a[:-1])\n",
        "\n",
        "# Very useful guide:\n",
        "\n",
        "#a[start:stop]  # items start through stop-1\n",
        "#a[start:]      # items start through the rest of the array\n",
        "#a[:stop]       # items from the beginning through stop-1\n",
        "#a[:]           # a copy of the whole array"
      ],
      "execution_count": null,
      "outputs": [
        {
          "output_type": "stream",
          "text": [
            "All elelemts:  [1, 2, 3, 5]\n",
            "All elements from the 3rd position onward:  [3, 5]\n",
            "All elements between the 2nd and 4th position:  [2, 3]\n",
            "All eleements before the last postion [1, 2, 3]\n"
          ],
          "name": "stdout"
        }
      ]
    },
    {
      "cell_type": "markdown",
      "metadata": {
        "id": "X4TL4IY0dwpL"
      },
      "source": [
        "## Dictionaries, the other very useful data type\n",
        "**Dictionaries** are python objects that store **key:value** pairs of data."
      ]
    },
    {
      "cell_type": "code",
      "metadata": {
        "id": "QK9owVwta_vz",
        "colab": {
          "base_uri": "https://localhost:8080/",
          "height": 69
        },
        "outputId": "122092e0-a2dd-4a33-9acf-383b64733fc6"
      },
      "source": [
        "# Creating a dictionary\n",
        "country_info = {\"name\": \"Japan\",\n",
        "        \"capital\": \"Tokyo\"}\n",
        "\n",
        "print(country_info)\n",
        "print(country_info[\"name\"])\n",
        "print(country_info[\"capital\"])"
      ],
      "execution_count": null,
      "outputs": [
        {
          "output_type": "stream",
          "text": [
            "{'name': 'Japan', 'capital': 'Tokyo'}\n",
            "Japan\n",
            "Tokyo\n"
          ],
          "name": "stdout"
        }
      ]
    },
    {
      "cell_type": "code",
      "metadata": {
        "id": "D57XXUTFeoA2",
        "colab": {
          "base_uri": "https://localhost:8080/",
          "height": 35
        },
        "outputId": "c9a481ba-3839-4d8b-f923-4707d22d78c3"
      },
      "source": [
        "# We can store multiple values and easily add information to our dictionary\n",
        "\n",
        "country_info['population'] = '126.8M'\n",
        "print(country_info)"
      ],
      "execution_count": null,
      "outputs": [
        {
          "output_type": "stream",
          "text": [
            "{'name': 'Japan', 'capital': 'Tokyo', 'population': '126.8M'}\n"
          ],
          "name": "stdout"
        }
      ]
    },
    {
      "cell_type": "code",
      "metadata": {
        "id": "-YxNH48re-JW",
        "colab": {
          "base_uri": "https://localhost:8080/",
          "height": 35
        },
        "outputId": "941dc9dd-152a-44b5-e9a7-00450668c6f1"
      },
      "source": [
        "# We can also change values easily\n",
        "\n",
        "country_info['population'] = '100M'\n",
        "print(country_info)"
      ],
      "execution_count": null,
      "outputs": [
        {
          "output_type": "stream",
          "text": [
            "{'name': 'Japan', 'capital': 'Tokyo', 'population': '100M'}\n"
          ],
          "name": "stdout"
        }
      ]
    },
    {
      "cell_type": "code",
      "metadata": {
        "id": "EY0CFm0yfMhl",
        "colab": {
          "base_uri": "https://localhost:8080/",
          "height": 55
        },
        "outputId": "01925e70-fe8a-41ec-d204-834c819d65e7"
      },
      "source": [
        "# Values can be of any data type\n",
        "\n",
        "country_info['regions'] = ['Hokkaido', 'Tohoku', 'Kanto', 'Chubu', 'Kinki', 'Chugoku', 'Shikoku', 'Kyushu-Okinawa']\n",
        "print(country_info)"
      ],
      "execution_count": null,
      "outputs": [
        {
          "output_type": "stream",
          "text": [
            "{'name': 'Japan', 'capital': 'Tokyo', 'population': '100M', 'regions': ['Hokkaido', 'Tohoku', 'Kanto', 'Chubu', 'Kinki', 'Chugoku', 'Shikoku', 'Kyushu-Okinawa']}\n"
          ],
          "name": "stdout"
        }
      ]
    },
    {
      "cell_type": "code",
      "metadata": {
        "id": "AvpiV2SRftmu",
        "colab": {
          "base_uri": "https://localhost:8080/",
          "height": 55
        },
        "outputId": "125a9499-e0d1-4587-d35e-0cbe55a7d041"
      },
      "source": [
        "# Values can be of any data type - Even Dictionaries, these are called nested dictionaries\n",
        "\n",
        "country_info['health'] = {\"life_expectancy\": 84.1, \"birth_rate\": 1.44}\n",
        "print(country_info)"
      ],
      "execution_count": null,
      "outputs": [
        {
          "output_type": "stream",
          "text": [
            "{'name': 'Japan', 'capital': 'Tokyo', 'population': '100M', 'regions': ['Hokkaido', 'Tohoku', 'Kanto', 'Chubu', 'Kinki', 'Chugoku', 'Shikoku', 'Kyushu-Okinawa'], 'health': {'life_expectancy': 84.1, 'birth_rate': 1.44}}\n"
          ],
          "name": "stdout"
        }
      ]
    },
    {
      "cell_type": "code",
      "metadata": {
        "id": "TDCk7sg2dK1p",
        "colab": {
          "base_uri": "https://localhost:8080/",
          "height": 201
        },
        "outputId": "c808dbd2-d5be-494c-d548-f34cbcaeedbb"
      },
      "source": [
        "import pprint\n",
        "\n",
        "pp.print(country_info)"
      ],
      "execution_count": null,
      "outputs": [
        {
          "output_type": "error",
          "ename": "NameError",
          "evalue": "ignored",
          "traceback": [
            "\u001b[0;31m---------------------------------------------------------------------------\u001b[0m",
            "\u001b[0;31mNameError\u001b[0m                                 Traceback (most recent call last)",
            "\u001b[0;32m<ipython-input-9-9509791c84d5>\u001b[0m in \u001b[0;36m<module>\u001b[0;34m()\u001b[0m\n\u001b[1;32m      1\u001b[0m \u001b[0;32mimport\u001b[0m \u001b[0mpprint\u001b[0m\u001b[0;34m\u001b[0m\u001b[0;34m\u001b[0m\u001b[0m\n\u001b[1;32m      2\u001b[0m \u001b[0;34m\u001b[0m\u001b[0m\n\u001b[0;32m----> 3\u001b[0;31m \u001b[0mpp\u001b[0m\u001b[0;34m.\u001b[0m\u001b[0mprint\u001b[0m\u001b[0;34m(\u001b[0m\u001b[0mcountry_info\u001b[0m\u001b[0;34m)\u001b[0m\u001b[0;34m\u001b[0m\u001b[0;34m\u001b[0m\u001b[0m\n\u001b[0m",
            "\u001b[0;31mNameError\u001b[0m: name 'pp' is not defined"
          ]
        }
      ]
    },
    {
      "cell_type": "code",
      "metadata": {
        "id": "wYaLR6ALgnIq",
        "colab": {
          "base_uri": "https://localhost:8080/",
          "height": 35
        },
        "outputId": "ebdc1682-f223-4b06-ee35-a7ec19011dee"
      },
      "source": [
        "# Accessing data in our nested dictionary\n",
        "\n",
        "country_info['health']['life_expectancy']"
      ],
      "execution_count": null,
      "outputs": [
        {
          "output_type": "execute_result",
          "data": {
            "text/plain": [
              "84.1"
            ]
          },
          "metadata": {
            "tags": []
          },
          "execution_count": 10
        }
      ]
    },
    {
      "cell_type": "code",
      "metadata": {
        "id": "J1xtocJrdsbj",
        "colab": {
          "base_uri": "https://localhost:8080/",
          "height": 55
        },
        "outputId": "e209aa89-be11-438e-d6a9-304166d255a1"
      },
      "source": [
        "country_info.values()"
      ],
      "execution_count": null,
      "outputs": [
        {
          "output_type": "execute_result",
          "data": {
            "text/plain": [
              "dict_values(['Japan', 'Tokyo', '100M', ['Hokkaido', 'Tohoku', 'Kanto', 'Chubu', 'Kinki', 'Chugoku', 'Shikoku', 'Kyushu-Okinawa'], {'life_expectancy': 84.1, 'birth_rate': 1.44}])"
            ]
          },
          "metadata": {
            "tags": []
          },
          "execution_count": 13
        }
      ]
    },
    {
      "cell_type": "markdown",
      "metadata": {
        "id": "tBMyCaI4gzu9"
      },
      "source": [
        "# Conditional Statements - If & Else\n",
        "\n",
        "If statements will prove invaluable in programming when handling siutations where decisions need to be made"
      ]
    },
    {
      "cell_type": "code",
      "metadata": {
        "id": "p180-t79gtHU",
        "colab": {
          "base_uri": "https://localhost:8080/",
          "height": 35
        },
        "outputId": "3daf471a-df8f-4711-e61f-1fa803d62ba2"
      },
      "source": [
        "# Using the if statement\n",
        "\n",
        "x = 19\n",
        "\n",
        "if x < 10:\n",
        "    print(\"less than 10\")\n",
        "else:\n",
        "  print(\"over 10\")"
      ],
      "execution_count": null,
      "outputs": [
        {
          "output_type": "stream",
          "text": [
            "over 10\n"
          ],
          "name": "stdout"
        }
      ]
    },
    {
      "cell_type": "code",
      "metadata": {
        "id": "dFFVcDaAhuhn",
        "colab": {
          "base_uri": "https://localhost:8080/",
          "height": 35
        },
        "outputId": "3a298491-a4ec-4c29-82fb-5b7c4592c6bf"
      },
      "source": [
        "x = 29\n",
        "\n",
        "if x < 10:\n",
        "    print(\"less than 10\")\n",
        "elif x > 10 and x <= 19:\n",
        "    print(\"greater than zero but less than 10\")\n",
        "else:\n",
        "    print(\"over 20\")"
      ],
      "execution_count": null,
      "outputs": [
        {
          "output_type": "stream",
          "text": [
            "over 20\n"
          ],
          "name": "stdout"
        }
      ]
    },
    {
      "cell_type": "code",
      "metadata": {
        "id": "NQv4SZENhgLV",
        "colab": {
          "base_uri": "https://localhost:8080/",
          "height": 35
        },
        "outputId": "1cbdb2cb-ad55-4e76-dd4c-196a15d66fc1"
      },
      "source": [
        "# Using booleans of conditional statements\n",
        "\n",
        "a = True\n",
        "if a:\n",
        "  print(\"statement was true\")"
      ],
      "execution_count": null,
      "outputs": [
        {
          "output_type": "stream",
          "text": [
            "statement was true\n"
          ],
          "name": "stdout"
        }
      ]
    },
    {
      "cell_type": "markdown",
      "metadata": {
        "id": "kLg-FVSMiall"
      },
      "source": [
        "# Loops\n",
        "\n",
        "Loops are another invaluable tool in programming, let's look at a few ways we can implement loops in Python"
      ]
    },
    {
      "cell_type": "code",
      "metadata": {
        "id": "ZZ5ogCPfiYI6",
        "colab": {
          "base_uri": "https://localhost:8080/",
          "height": 52
        },
        "outputId": "9d21413f-5ac1-467a-f1e0-9c531a72437b"
      },
      "source": [
        "# Using the range function\n",
        "\n",
        "print(list(range(5)))\n",
        "\n",
        "# Or\n",
        "\n",
        "print(list(range(1,5)))"
      ],
      "execution_count": null,
      "outputs": [
        {
          "output_type": "stream",
          "text": [
            "[0, 1, 2, 3, 4]\n",
            "[1, 2, 3, 4]\n"
          ],
          "name": "stdout"
        }
      ]
    },
    {
      "cell_type": "code",
      "metadata": {
        "id": "JBU80c3oipiM",
        "colab": {
          "base_uri": "https://localhost:8080/",
          "height": 104
        },
        "outputId": "13969745-760c-41e0-ab6d-1199ccef00ad"
      },
      "source": [
        "for i in range(0,5):\n",
        "  print(i)"
      ],
      "execution_count": null,
      "outputs": [
        {
          "output_type": "stream",
          "text": [
            "0\n",
            "1\n",
            "2\n",
            "3\n",
            "4\n"
          ],
          "name": "stdout"
        }
      ]
    },
    {
      "cell_type": "code",
      "metadata": {
        "id": "5M3Hw2J_i9Rr",
        "colab": {
          "base_uri": "https://localhost:8080/",
          "height": 87
        },
        "outputId": "1955e678-c208-4a9f-8c40-74df2b1c1c02"
      },
      "source": [
        "# Python allows us to directly loop through items in a list\n",
        "\n",
        "items = ['a','b', 'c', 'd']\n",
        "for item in items:\n",
        "  print(item)"
      ],
      "execution_count": null,
      "outputs": [
        {
          "output_type": "stream",
          "text": [
            "a\n",
            "b\n",
            "c\n",
            "d\n"
          ],
          "name": "stdout"
        }
      ]
    },
    {
      "cell_type": "code",
      "metadata": {
        "id": "RLmP9dWPjpho",
        "colab": {
          "base_uri": "https://localhost:8080/",
          "height": 104
        },
        "outputId": "31d489d4-a4c9-4224-b5af-7453cf8a904d"
      },
      "source": [
        "# Incrementing variables in loops and storing them in a list\n",
        "\n",
        "x = 0\n",
        "collecting_values_of_x = []\n",
        "\n",
        "items = ['a','b', 'c', 'd']\n",
        "for item in items:\n",
        "  x += 1\n",
        "  print(x, item)\n",
        "  collecting_values_of_x.append(x)\n",
        "\n",
        "print(collecting_values_of_x)"
      ],
      "execution_count": null,
      "outputs": [
        {
          "output_type": "stream",
          "text": [
            "1 a\n",
            "2 b\n",
            "3 c\n",
            "4 d\n",
            "[1, 2, 3, 4]\n"
          ],
          "name": "stdout"
        }
      ]
    },
    {
      "cell_type": "code",
      "metadata": {
        "id": "m7PHFl_9jZOY",
        "colab": {
          "base_uri": "https://localhost:8080/",
          "height": 104
        },
        "outputId": "1800e736-e119-4ee0-9c36-7ade998584a6"
      },
      "source": [
        "# While loops\n",
        "\n",
        "x = 0\n",
        "while x < 5:\n",
        "    x += 1\n",
        "    print(x)"
      ],
      "execution_count": null,
      "outputs": [
        {
          "output_type": "stream",
          "text": [
            "1\n",
            "2\n",
            "3\n",
            "4\n",
            "5\n"
          ],
          "name": "stdout"
        }
      ]
    },
    {
      "cell_type": "code",
      "metadata": {
        "id": "QV9S4x-xkEWW",
        "colab": {
          "base_uri": "https://localhost:8080/",
          "height": 104
        },
        "outputId": "a08d82eb-375c-46ea-ed2c-da2302c0686d"
      },
      "source": [
        "# While loops\n",
        "\n",
        "x = 0\n",
        "while True:\n",
        "    if x == 5:\n",
        "      break\n",
        "    x += 1\n",
        "    print(x)"
      ],
      "execution_count": null,
      "outputs": [
        {
          "output_type": "stream",
          "text": [
            "1\n",
            "2\n",
            "3\n",
            "4\n",
            "5\n"
          ],
          "name": "stdout"
        }
      ]
    },
    {
      "cell_type": "markdown",
      "metadata": {
        "id": "x7i46vgQkvJs"
      },
      "source": [
        "# Functions\n",
        "\n",
        "Functions are extremely useful in creating peices of code you want to call or use several times in our program."
      ]
    },
    {
      "cell_type": "code",
      "metadata": {
        "id": "Jt_UfXekkVBG"
      },
      "source": [
        "# Simple function to return area of a circle\n",
        "\n",
        "def areaCircle(radius):\n",
        "  area = 3.14 * (radius**2)\n",
        "  return area\n"
      ],
      "execution_count": null,
      "outputs": []
    },
    {
      "cell_type": "code",
      "metadata": {
        "id": "GLyvb1VplEDr",
        "colab": {
          "base_uri": "https://localhost:8080/",
          "height": 35
        },
        "outputId": "864e072a-9e02-4bce-af2d-f3dfd4308cf5"
      },
      "source": [
        "areaCircle(2)"
      ],
      "execution_count": null,
      "outputs": [
        {
          "output_type": "execute_result",
          "data": {
            "text/plain": [
              "12.56"
            ]
          },
          "metadata": {
            "tags": []
          },
          "execution_count": 63
        }
      ]
    },
    {
      "cell_type": "code",
      "metadata": {
        "id": "QtzNLj7FlFz4"
      },
      "source": [
        "# More complicated functions\n",
        "\n",
        "def volumeCylinder(radius, height):\n",
        "  volume = 3.14 * radius**2 * height\n",
        "  return volume"
      ],
      "execution_count": null,
      "outputs": []
    },
    {
      "cell_type": "code",
      "metadata": {
        "id": "OGYfKiqdv-Ma",
        "colab": {
          "base_uri": "https://localhost:8080/",
          "height": 35
        },
        "outputId": "fa789fec-9dc1-47bb-f8c7-e0461fe7e646"
      },
      "source": [
        "volumeCylinder(radius = 5, height = 6)"
      ],
      "execution_count": null,
      "outputs": [
        {
          "output_type": "execute_result",
          "data": {
            "text/plain": [
              "471.0"
            ]
          },
          "metadata": {
            "tags": []
          },
          "execution_count": 71
        }
      ]
    },
    {
      "cell_type": "code",
      "metadata": {
        "id": "swh6MO3plI0b"
      },
      "source": [
        "# Default arguements\n",
        "\n",
        "def areaCircle(radius):\n",
        "  area = 3.14 * (radius**2)\n",
        "  return area"
      ],
      "execution_count": null,
      "outputs": []
    },
    {
      "cell_type": "code",
      "metadata": {
        "id": "mcvf8QWQog50"
      },
      "source": [
        "# Creating a class\n",
        "class Book(object):\n",
        "    \"\"\"Class object for a book\"\"\"\n",
        "  \n",
        "    def __init__(self, title, author):\n",
        "        \"\"\"Initialize a new Book\"\"\"\n",
        "        self.title = title\n",
        "        self.author = authorti"
      ],
      "execution_count": null,
      "outputs": []
    }
  ]
}